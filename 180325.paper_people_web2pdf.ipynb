{
 "cells": [
  {
   "cell_type": "code",
   "execution_count": 169,
   "metadata": {
    "collapsed": false
   },
   "outputs": [
    {
     "name": "stdout",
     "output_type": "stream",
     "text": [
      "http://paper.people.com.cn/rmrb/html/2018-04/05/nbs.D110000renmrb_01.htm\n"
     ]
    }
   ],
   "source": [
    "#http://paper.people.com.cn/rmrb/page/2018-03/25/01/rmrb2018032501.pdf\n",
    "import urllib\n",
    "import datetime\n",
    "import requests\n",
    "from bs4 import BeautifulSoup  \n",
    "\n",
    "\n",
    "from PyPDF2 import PdfFileMerger, PdfFileReader\n",
    "\n",
    "\n",
    "\n",
    "url = \"http://paper.people.com.cn/rmrb/html/2018-03/25/nbs.D110000renmrb_01.htm\"\n",
    "pdf_url01 = \"http://paper.people.com.cn/rmrb/page/2018-03/25/01/rmrb2018032501.pdf\"\n",
    "pdf_url02 = \"http://paper.people.com.cn/rmrb/page/2018-03/25/02/rmrb2018032502.pdf\"\n",
    "\n",
    "\n",
    "select_day = \"2018.04.05\"\n",
    "[year, month, day] = select_day.split(\".\")\n",
    "# now = datetime.datetime.now()\n",
    "# year = str(now.year)\n",
    "# month = str(now.month).zfill(2)\n",
    "# day = str(now.day).zfill(2)\n",
    "\n",
    "# Generate the first page html\n",
    "paper_people_base = \"http://paper.people.com.cn/rmrb/html/\"\n",
    "paper_people_download_base = \"http://paper.people.com.cn/rmrb/\"\n",
    "\n",
    "current_time = year + '-' + month + '/' + day + \"/nbs.D110000renmrb_01.htm\"\n",
    "url = paper_people_base + current_time\n",
    "print url\n",
    "\n",
    "# Generate the pdf list for donwloading\n",
    "\n",
    "\n",
    "#web_raw = urllib.urlopen(url)\n",
    "html = requests.get(url) \n",
    "html.encoding = 'utf-8' #这一行是将编码转为utf-8否则中文会显示乱码。  \n",
    "\n",
    "#print type(html)\n",
    "#print html.text\n",
    "#print type(web_raw)\n",
    "#print web_raw.read()\n",
    "\n",
    "\n"
   ]
  },
  {
   "cell_type": "code",
   "execution_count": 170,
   "metadata": {
    "collapsed": false,
    "scrolled": true
   },
   "outputs": [
    {
     "name": "stdout",
     "output_type": "stream",
     "text": [
      "[u'page/2018-04/05/01/rmrb2018040501.pdf', u'page/2018-04/05/02/rmrb2018040502.pdf', u'page/2018-04/05/03/rmrb2018040503.pdf', u'page/2018-04/05/04/rmrb2018040504.pdf', u'page/2018-04/05/05/rmrb2018040505.pdf', u'page/2018-04/05/06/rmrb2018040506.pdf', u'page/2018-04/05/07/rmrb2018040507.pdf', u'page/2018-04/05/08/rmrb2018040508.pdf']\n",
      "Downloading rmrb2018040501.pdf now.\n",
      "Finished.\n",
      "---------------\n",
      "Downloading rmrb2018040502.pdf now.\n",
      "Finished.\n",
      "---------------\n",
      "Downloading rmrb2018040503.pdf now.\n",
      "Finished.\n",
      "---------------\n",
      "Downloading rmrb2018040504.pdf now.\n",
      "Finished.\n",
      "---------------\n",
      "Downloading rmrb2018040505.pdf now.\n",
      "Finished.\n",
      "---------------\n",
      "Downloading rmrb2018040506.pdf now.\n",
      "Finished.\n",
      "---------------\n",
      "Downloading rmrb2018040507.pdf now.\n",
      "Finished.\n",
      "---------------\n",
      "Downloading rmrb2018040508.pdf now.\n",
      "Finished.\n",
      "---------------\n"
     ]
    }
   ],
   "source": [
    "soup = BeautifulSoup(html.text, \"html.parser\")\n",
    "#print soup.prettify()\n",
    "\n",
    "\n",
    "\n",
    "#right_title_pdf_class = soup.find_all('div', class_=\"right_title-pdf\",)\n",
    "#print right_title_pdf_class\n",
    "#print type(right_title_pdf_class)\n",
    "\n",
    "a_href_list = soup.select('a[href^=\"../../../page\"]') # '^' 匹配字符串开头\n",
    "#print a_href_list \n",
    "#print type(a_href_list)\n",
    "#print len(a_href_list)\n",
    "#for each_a_href in a_href_list:\n",
    "#    print each_a_href.get('href')[-38:]\n",
    "    \n",
    "download_pdf_list = [each_a_href.get('href')[-37:] for each_a_href in a_href_list]\n",
    "#print download_pdf_list\n",
    "\n",
    "download_pdf_list_remove_duplicate = []\n",
    "for i in download_pdf_list:\n",
    "  if i not in download_pdf_list_remove_duplicate:\n",
    "    download_pdf_list_remove_duplicate.append(i)\n",
    "    \n",
    "print download_pdf_list_remove_duplicate\n",
    "\n",
    "for current_pdf in download_pdf_list_remove_duplicate:\n",
    "    current_file_name = current_pdf.split('/')[-1]\n",
    "    current_url = paper_people_download_base + current_pdf\n",
    "    print \"Downloading \" + current_file_name + \" now.\"\n",
    "    response = urllib.urlopen(current_url)\n",
    "    file = open(current_file_name, 'wb')\n",
    "    file.write(response.read())\n",
    "    file.close()\n",
    "    print \"Finished.\"\n",
    "    print \"---------------\""
   ]
  },
  {
   "cell_type": "code",
   "execution_count": 18,
   "metadata": {
    "collapsed": false
   },
   "outputs": [
    {
     "name": "stdout",
     "output_type": "stream",
     "text": [
      "rmrb2018032501.pdf\n",
      "Completed\n"
     ]
    }
   ],
   "source": [
    "#pdf_url01 = \"http://paper.people.com.cn/rmrb/page/2018-03/25/01/rmrb2018032501.pdf\"\n",
    "\n",
    "#file_name = pdf_url01.split('/')[-1]\n",
    "#print (file_name)\n",
    "\n",
    "#response = urllib.urlopen(pdf_url01)\n",
    "#file = open(\"rmrb2018032501.pdf\", 'wb')\n",
    "#file.write(response.read())\n",
    "#file.close()\n",
    "#print(\"Completed\")\n",
    "\n"
   ]
  },
  {
   "cell_type": "code",
   "execution_count": 171,
   "metadata": {
    "collapsed": false
   },
   "outputs": [
    {
     "name": "stdout",
     "output_type": "stream",
     "text": [
      "['rmrb2018040501.pdf', 'rmrb2018040502.pdf', 'rmrb2018040503.pdf', 'rmrb2018040504.pdf', 'rmrb2018040505.pdf', 'rmrb2018040506.pdf', 'rmrb2018040507.pdf', 'rmrb2018040508.pdf']\n"
     ]
    }
   ],
   "source": [
    "import os\n",
    "import sys\n",
    "import glob\n",
    "import re \n",
    "\n",
    "from PyPDF2 import PdfFileReader,PdfFileWriter\n",
    "\n",
    "def getFileName(filepath):\n",
    "    file_list = []\n",
    "    for root,dirs,files in os.walk(filepath):\n",
    "        for filespath in files:\n",
    "            # print(os.path.join(root,filespath))\n",
    "            file_list.append(os.path.join(root,filespath))\n",
    "\n",
    "    return file_list\n",
    "\n",
    "filepath = os.getcwd()\n",
    "#infnList = ['rmrb2018032501.pdf','rmrb2018032502.pdf']\n",
    "#print infnList\n",
    "current_file_name_list = getFileName(filepath)\n",
    "current_file_name_filter = \"rmrb\" + year + month + day\n",
    "infnList = []\n",
    "for each_file in current_file_name_list:\n",
    "    each_file_name = each_file.split('/')[-1]\n",
    "    if each_file.split('/')[-1].startswith(current_file_name_filter):\n",
    "        infnList.append(each_file_name)\n",
    "\n",
    "infnList =  sorted(infnList)\n",
    "print infnList\n"
   ]
  },
  {
   "cell_type": "code",
   "execution_count": 172,
   "metadata": {
    "collapsed": false
   },
   "outputs": [
    {
     "name": "stdout",
     "output_type": "stream",
     "text": [
      "rmrb2018040501.pdf\n",
      "1\n",
      "rmrb2018040502.pdf\n",
      "1\n",
      "rmrb2018040503.pdf\n",
      "1\n",
      "rmrb2018040504.pdf\n",
      "1\n",
      "rmrb2018040505.pdf\n",
      "1\n",
      "rmrb2018040506.pdf\n",
      "1\n",
      "rmrb2018040507.pdf\n",
      "1\n",
      "rmrb2018040508.pdf\n",
      "1\n",
      "Completed\n"
     ]
    }
   ],
   "source": [
    "pdf_output = PdfFileWriter()\n",
    "for infn in infnList:\n",
    "    print infn\n",
    "    pdf_input = PdfFileReader(open(infn, 'rb'), strict=False)\n",
    "    # 获取 pdf 共用多少页\n",
    "    page_count = pdf_input.getNumPages()\n",
    "    print(page_count)\n",
    "    for i in range(page_count):\n",
    "        pdf_output.addPage(pdf_input.getPage(i))\n",
    "        \n",
    "pdf_output.write(open('Summary.pdf', 'wb'))\n",
    "print(\"Completed\")"
   ]
  }
 ],
 "metadata": {
  "kernelspec": {
   "display_name": "Python 2",
   "language": "python",
   "name": "python2"
  },
  "language_info": {
   "codemirror_mode": {
    "name": "ipython",
    "version": 2
   },
   "file_extension": ".py",
   "mimetype": "text/x-python",
   "name": "python",
   "nbconvert_exporter": "python",
   "pygments_lexer": "ipython2",
   "version": "2.7.13"
  }
 },
 "nbformat": 4,
 "nbformat_minor": 0
}
